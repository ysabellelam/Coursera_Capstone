{
    "cells": [
        {
            "cell_type": "markdown",
            "metadata": {
                "collapsed": true
            },
            "source": "## Studying Local California Businesses Openings and the Correlation of Coronavius Cases\nThis notebook is to be used for the coursera capstone project in the IBM professional data science certificate series."
        },
        {
            "cell_type": "code",
            "execution_count": 2,
            "metadata": {},
            "outputs": [],
            "source": "import pandas as pd\nimport numpy as np"
        },
        {
            "cell_type": "markdown",
            "metadata": {},
            "source": "### Background\n\nDue to the infectious nature of Covid 19, the state of California ordered a mandatory stay at home order in March of 2020. The stay at home order required that residents stay inside their home, unless they were visiting essential businesses. Along, with the stay at home order, businesses that were not deemed mandatory were forced to temporarily close. In June of 2020, non essential businesses were allowed to open with strict preventive health measures. As Covid 19 cases increased Governor Gavin Newsom ordered the reclosing of many large cities in California. I would like to see if there is a correlation between the type of businesses in certain neighborhoods and the amount of Covid 19 cases, to possibly highlight businesses that should be marked as high risk. I will be looking at the cities San Diego, Los Angeles, and San Francisco.\nProblem\nData that might contribute to understanding at risk businesses might include business/attraction type, quantity of business in neighborhoods, neighborhood population, and amount of Covid 19 cases in each neighborhood. This project aims to predict which businesses are at high risk for spreading Covid 19, to help understand which businesses should be allowed to remain opening in the case of another lockdown.\nInterest\nThis information would be interesting to have for legislative officials to consider when writing their stay at home legislation. It may also be interesting for small businesses who feel they must remain open, in order to avoid going bankrupt."
        },
        {
            "cell_type": "markdown",
            "metadata": {},
            "source": "### Data Aquisition & Cleaning"
        },
        {
            "cell_type": "markdown",
            "metadata": {},
            "source": "#### Data Sources\n\nSan Diego Cases Data by Zipcode: https://www.sandiegocounty.gov/content/dam/sdc/hhsa/programs/phs/Epidemiology/COVID-19%20Summary%20of%20Cases%20by%20Zip%20Code.pdf\nLos Angeles Cases Data by City Name: http://dashboard.publichealth.lacounty.gov/covid19_surveillance_dashboard/\n\nLos Angeles City Name by Zipcode:\nhttp://file.lacounty.gov/SDSInter/lac/1031552_MasterZipCodes.pdf\n\nSan Francisco Cases Data by Zipcode: https://data.sfgov.org/COVID-19/COVID-19-Cases-and-Deaths-Summarized-by-ZIP-Code-T/tef6-3vsw\n\nPopular Attraction/ Venue Data will be Extracted from Foursquare API for the communities collected from the data above in San Diego, Los Angeles, and San Francisco.\n\nGeopy data will be used to help gain the latitude and longitude of each zipcode center to be later mapped."
        },
        {
            "cell_type": "markdown",
            "metadata": {},
            "source": "#### Data Cleaning\nThe San Diego and San Francisco data will have to be cleansed to only include the neighborhood zipcode and the amount of cases per capita. This will be achieved by dropping the other columns. The Los Angeles data will have to be merged to get the zipcode for each city from the neighborhood name."
        },
        {
            "cell_type": "markdown",
            "metadata": {},
            "source": "#### Feature Selection\nFeature selection\nFrom the data I would like to create four separate tables.\n\n(1) A table including the San Diego neighborhood zip code, the Covid 19 contraction rate, and the ten most popular attractions, and the quantity of those attractions. This data will be displayed using a bar graph. I will also be displaying the contraction rate for this city on a geographical map.\n\n(2) A table including the Los Angeles neighborhood zip code, the Covid 19 contraction rate, and the ten most popular attractions, and the quantity of those attractions. This data will be displayed using a bar graph. I will also be displaying the contraction rate for this city on a geographical map.\n\n(3) A table including the San Francisco neighborhood zip code, the Covid 19 contraction rate, and the ten most popular attractions, and the quantity of those attractions. This data will be displayed using a bar graph. I will also be displaying the contraction rate for this city on a geographical map.\n\n(4) A table including the three highest covid 19 infection rate neighborhoods from each city and their 10 most popular attractions. This data will be displayed using a bar graph. I will also be displaying the contraction rate for this city on a geographical map."
        },
        {
            "cell_type": "code",
            "execution_count": null,
            "metadata": {},
            "outputs": [],
            "source": ""
        }
    ],
    "metadata": {
        "kernelspec": {
            "display_name": "Python 3.6",
            "language": "python",
            "name": "python3"
        },
        "language_info": {
            "codemirror_mode": {
                "name": "ipython",
                "version": 3
            },
            "file_extension": ".py",
            "mimetype": "text/x-python",
            "name": "python",
            "nbconvert_exporter": "python",
            "pygments_lexer": "ipython3",
            "version": "3.6.9"
        }
    },
    "nbformat": 4,
    "nbformat_minor": 1
}